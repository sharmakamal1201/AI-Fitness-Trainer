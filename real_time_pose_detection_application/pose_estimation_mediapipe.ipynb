{
 "cells": [
  {
   "cell_type": "code",
   "execution_count": 2,
   "id": "ce047caa",
   "metadata": {},
   "outputs": [],
   "source": [
    "import ExerciseInvoker"
   ]
  },
  {
   "cell_type": "markdown",
   "id": "81a6e1b9",
   "metadata": {},
   "source": [
    "<img src=\"https://mediapipe.dev/images/mobile/pose_tracking_full_body_landmarks.png\" style=\"height:400px\">"
   ]
  },
  {
   "cell_type": "markdown",
   "id": "53414847",
   "metadata": {},
   "source": [
    "# MAIN"
   ]
  },
  {
   "cell_type": "code",
   "execution_count": 11,
   "id": "dcd47471",
   "metadata": {},
   "outputs": [
    {
     "name": "stdout",
     "output_type": "stream",
     "text": [
      "\n",
      "You have selected biceps curl. We will train together and make sure to do it in a right way. Follow the instructions. Press y to start.\n",
      "Move your left elbow closer to hip\n",
      "contract the bicep muscle, lift your wrists closer to shoulders\n",
      "Move your left elbow closer to hip\n"
     ]
    }
   ],
   "source": [
    "ExerciseInvoker.Run('biceps curl')\n",
    "#ExerciseInvoker.Run('pushup')"
   ]
  }
 ],
 "metadata": {
  "kernelspec": {
   "display_name": "Python 3 (ipykernel)",
   "language": "python",
   "name": "python3"
  },
  "language_info": {
   "codemirror_mode": {
    "name": "ipython",
    "version": 3
   },
   "file_extension": ".py",
   "mimetype": "text/x-python",
   "name": "python",
   "nbconvert_exporter": "python",
   "pygments_lexer": "ipython3",
   "version": "3.8.6"
  },
  "vscode": {
   "interpreter": {
    "hash": "deedc49dee3b75507b14fd10466bcdf5106f0492cd15a8321b3007c354c47a4e"
   }
  }
 },
 "nbformat": 4,
 "nbformat_minor": 5
}
